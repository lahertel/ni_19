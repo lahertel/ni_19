{
 "cells": [
  {
   "cell_type": "markdown",
   "metadata": {},
   "source": [
    "# Exercise 6: Hopfield Nets\n",
    "In this exercise, we will train a Hopfield net to recognize handwritten digits. A Hopfield net is a neural network with feedback, i.e. the output of the net at time $t$ becomes the input of the net at time $t + 1$. The output of neuron $j$ at time $t+1$ is given by\n",
    "\n",
    "$$\n",
    "\\begin{equation}\n",
    "    y_j(t+1) = \n",
    "        \\left\\{ \n",
    "            \\begin{array}{rl}\n",
    "                1, & \\text{if } \\sum_{i=1}^N w_{ij}y_i(t) \\geq \\theta \\\\\n",
    "                -1, & \\text{else}\n",
    "            \\end{array} \n",
    "        \\right.\n",
    "\\end{equation}\n",
    "$$\n",
    "where $N$ is the number of neurons in the Hopfield net and $w_{ij}$ is the weight between neuron $i$ and $j$.\n",
    "If the weights are initialized suitably, the Hopfield net can be used as an autoassociative memory that recognizes a certain number of patterns. When presented with an initial input, the net will converge to the learned pattern that most closely resembles that input.\n",
    "To achieve this, the weights need to be initialized as follows:\n",
    "$$\n",
    "\\begin{equation}\n",
    "    w_{ij} = \n",
    "        \\left\\{ \n",
    "            \\begin{array}{rl}\n",
    "                0, & \\text{if } i = j \\\\\n",
    "                \\frac{1}{N}\\sum_{\\mu = 1}^p x_i^{\\mu}x_j^{\\mu}, & \\text{else}\n",
    "            \\end{array} \n",
    "        \\right.\n",
    "\\end{equation}\n",
    "$$\n",
    "\n",
    "\n",
    "\n",
    "where $\\vec{x^{\\mu}}$ ($\\mu = 1, . . . , p$) are the patterns to be learned, $N$ is the total number of Neurons and $x_i^{\\mu}$ is the $i$-th\n",
    "component of pattern $\\vec{x^{\\mu}}$."
   ]
  },
  {
   "cell_type": "markdown",
   "metadata": {},
   "source": [
    "## Exercise 6.1: Implementing and Testing the Hopfield net"
   ]
  },
  {
   "cell_type": "code",
   "execution_count": null,
   "metadata": {
    "scrolled": true
   },
   "outputs": [],
   "source": [
    "import numpy as np\n",
    "from matplotlib import pyplot as plt\n",
    "%matplotlib inline\n",
    "from utils import utils_6 as utils"
   ]
  },
  {
   "cell_type": "markdown",
   "metadata": {},
   "source": [
    "Implement the initialization of all weights $w_{ij}$ in the function `hopfieldInitWeights`. This initialization stores the given pattern into the weights!\n",
    "\n",
    "__Hints__:\n",
    " - patterns is an array of patterns (matrices) to convert each pattern to a vector you can use `patterns[j].flatten`\n",
    " - `weights` is a matrix of size $N$x$N$ with $N$ being the total number of pixels of each pattern "
   ]
  },
  {
   "cell_type": "code",
   "execution_count": null,
   "metadata": {
    "scrolled": true
   },
   "outputs": [],
   "source": [
    "def hopfieldInitWeights(patterns):\n",
    "    # TODO: Implement the initialization of all weights and output the weights\n",
    "    pass"
   ]
  },
  {
   "cell_type": "markdown",
   "metadata": {},
   "source": [
    "Implement the update rule in the function `hopfieldAssociate`. In each epoch, update the neurons one after the other in a random sequence (so called asynchronous update). Continue updating until the net has converged, i.e. until no neuron changes its activation. Use $\\theta = 0$.\n",
    "\n",
    "__Hints__:\n",
    " - `activation`is the initial activation of the neurons. This can either be a vector of length $N$ or an image (matrix) with a total of $N$ pixels. In either case, `activation.flatten()` can be used to obtain an activation vector of length $N$."
   ]
  },
  {
   "cell_type": "code",
   "execution_count": null,
   "metadata": {
    "scrolled": true
   },
   "outputs": [],
   "source": [
    "def hopfieldAssociate(weights, activation, off_state):\n",
    "\n",
    "    # Threshold for neurons\n",
    "    threshold = 0;\n",
    "\n",
    "    # TODO: Implement the Hopfield activation rule and output the final activation \n",
    "    # of the neurons after convergence\n",
    "\n",
    "    pass"
   ]
  },
  {
   "cell_type": "markdown",
   "metadata": {},
   "source": [
    "The file data_6.npz contains handwritten digits from 0 to 9.\n",
    " - Test the Hopfield net on the handwritten digits using the provided function `hopfield.m`. First, check if the net is able to learn and distinguish all ten digits in their original form, i.e. set the parameter noise level to zero. If not, give an explanation why and try to find a subset of digits that the net can distinguish. What is the largest subset you can find?"
   ]
  },
  {
   "cell_type": "code",
   "execution_count": null,
   "metadata": {
    "scrolled": true
   },
   "outputs": [],
   "source": [
    "patterns = utils.load_data('data/data_6.npz')\n",
    "noise_level = 0\n",
    "off_state = -1\n",
    "\n",
    "# call the hopfield function without noise for the whole dataset, \n",
    "utils.hopfield(patterns, hopfieldInitWeights, hopfieldAssociate,noise_level,off_state)\n",
    "\n",
    "# TODO: find a subset of digits that can be distinguished and is as big as possible\n",
    "distinguishable_patterns = \n",
    "\n",
    "utils.hopfield(distinguishable_patterns, hopfieldInitWeights, \n",
    "               hopfieldAssociate,noise_level,off_state)"
   ]
  },
  {
   "cell_type": "markdown",
   "metadata": {},
   "source": [
    "Now, test how noise affects the net’s ability to recognize the digits. Experiment with different values of noise level $\\in$ $[0, 1]$. What is the maximum amount of noise the net can tolerate?"
   ]
  },
  {
   "cell_type": "code",
   "execution_count": null,
   "metadata": {
    "scrolled": true
   },
   "outputs": [],
   "source": [
    "# TODO: call the hopfield function and manipulate the noise level "
   ]
  },
  {
   "cell_type": "markdown",
   "metadata": {},
   "source": [
    "## Exercise 6.2: Solving the 8 Queens Problem using a hopfield net\n",
    "A hopfield net can be used to solve the 8 Queens problem. Problem: place eight chess queens on an 8×8 chessboard, so that no two queens threaten each other. \n",
    "\n",
    "Chess rules: a queen can move any number of vacant squares in a horizontal, vertical, or diagonal direction\n",
    "\n",
    "To be able to solve the problem the weights are determined in a different way than above. The $i,j$-th entry of `weights` is determined by checking if two queens could stand on the $i$-th and $j$-th field without threatening each other (0) or not (-1).\n",
    "\n",
    "Implement the initialization of all weights in the function initQueens. This initialization stores the chess rules into the weights!"
   ]
  },
  {
   "cell_type": "code",
   "execution_count": null,
   "metadata": {
    "scrolled": true
   },
   "outputs": [],
   "source": [
    "def initQueens(num_rows):\n",
    "    \n",
    "    num_fields = num_rows**2\n",
    "    weights = np.zeros((num_fields,num_fields))\n",
    "\n",
    "    # penalty weights\n",
    "    row_weight = -1\n",
    "    col_weight = -1\n",
    "    diag_weight = -1\n",
    "    good_weight = 0\n",
    "\n",
    "    # define connectivity (rules) between all fields\n",
    "    for field in range(num_fields):\n",
    "        # calculate x- and y-position for field\n",
    "        field_x, field_y = divmod(field,num_rows)\n",
    "        # compare only for upper triangle\n",
    "        for compare in range(field+1,num_fields):\n",
    "            # calculate x- and y-position for compare\n",
    "            compare_x, compare_y = divmod(compare,num_rows)\n",
    "\n",
    "            # go through all possibilities, if equal, do nothing\n",
    "            \n",
    "            # TODO: check if the fields are in the same row\n",
    "            if\n",
    "                weights[field,compare] = row_weight\n",
    "                \n",
    "            # TODO: check if the fields are in the same coloumn    \n",
    "            elif \n",
    "                weights[field,compare] = col_weight\n",
    "                \n",
    "            # TODO: check if the fields are on the same diagonal    \n",
    "            elif \n",
    "                weights[field,compare] = diag_weight\n",
    "            else: \n",
    "                # no collision with compare\n",
    "                weights[field,compare] = good_weight\n",
    "\n",
    "    # copy upper onto lower triangle\n",
    "    weights = weights + weights.T\n",
    "    \n",
    "    return weights"
   ]
  },
  {
   "cell_type": "markdown",
   "metadata": {},
   "source": [
    "Test your implementation."
   ]
  },
  {
   "cell_type": "code",
   "execution_count": null,
   "metadata": {
    "scrolled": true
   },
   "outputs": [],
   "source": [
    "num_rows = 8\n",
    "animation = utils.Animation(num_rows)\n",
    "queen = list(utils.hopfield_queen(initQueens, num_rows))\n",
    "animation.play(queen)"
   ]
  }
 ],
 "metadata": {
  "kernelspec": {
   "display_name": "Python 3",
   "language": "python",
   "name": "python3"
  },
  "language_info": {
   "codemirror_mode": {
    "name": "ipython",
    "version": 3
   },
   "file_extension": ".py",
   "mimetype": "text/x-python",
   "name": "python",
   "nbconvert_exporter": "python",
   "pygments_lexer": "ipython3",
   "version": "3.7.3"
  }
 },
 "nbformat": 4,
 "nbformat_minor": 2
}
