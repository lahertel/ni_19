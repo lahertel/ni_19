{
 "cells": [
  {
   "cell_type": "markdown",
   "metadata": {},
   "source": [
    "# Exercise 4: Learning with a Multilayer Perceptron (MLP)\n",
    "In this exercise, we will study a multilayer perceptron (MLP) with one hidden layer (comprising $M$ hidden neurons) and a single output neuron.\n",
    "\n",
    "We obtain the output of the MLP through forward propagation as follows:\n",
    "\n",
    "$$\n",
    "\\begin{align}\n",
    "    \\vec{v} &= \\sigma_{\\beta} \\left( \\vec{\\tilde{x}} {W^{\\text{hidden}}}  \\right) \\\\\n",
    "    y &= \\sigma_{\\beta} \\left( \\vec{\\tilde{v}} \\vec{\\tilde{w}}^{\\text{output}} \\right)\n",
    "\\end{align}\n",
    "$$\n",
    "\n",
    "where $\\vec{\\tilde{x}} = \\left(-1, x_1, ..., x_N \\right)$ is the extended `sample` $\\vec{x}$, $W^{\\text{hidden}}=(\\vec{\\tilde{w}}^{T}_{1}, \\dots, \\vec{\\tilde{w}}^{T}_{M})$ are the threshold extended `hidden_weights` of the hidden neurons, $\\vec{v} = \\left( v_1, \\dots, v_M \\right)$ are the $M$ outputs of the hidden neurons, $\\vec{\\tilde{v}} = \\left(-1, v_1,..., v_M \\right)$ is the extended hidden layer output vector, $\\vec{\\tilde{w}}^{\\text{output}} = \\left(\\theta, w_1, \\dots, w_M \\right)$ are the threshold extended `output_weights` of the output neuron, and $\\sigma_{\\beta} \\left(\\cdot\\right) = \\text{tanh}\\left(\\frac{\\beta}{2}\\cdot\\right)$ is the `sigmoid` function.\n",
    "\n",
    "__Note__: The _threshold trick_ is applied, i.e. the threshold of each neuron is included as an additional _first_ component for each extended weight vector."
   ]
  },
  {
   "cell_type": "markdown",
   "metadata": {},
   "source": [
    "## Exercise 4.1: Implementation of the Backpropagation Algorithm\n",
    "Now we want to learn the `hidden_weights` $W^\\text{hidden}$ and the `output_weights` $\\vec{\\tilde{w}}^{\\text{output}}$ from training data. The backpropagation rule (assuming that $\\beta=2$, i.e. $\\sigma_2\\left(\\cdot\\right)=\\text{tanh}\\left(\\cdot \\right)$) is\n",
    "\n",
    "$$\n",
    "\\begin{align}\n",
    "    \\delta^{\\text{output}} &= \\left( s - y \\right) \\cdot \\left( 1 - y^{2} \\right) \\\\\n",
    "    \\delta^{\\text{hidden}}_{j} &= \\delta^{\\text{output}} \\cdot w^{\\text{output}}_{j} \\cdot \\left( 1 - v^{2}_{j} \\right) & \\left( j=1, \\dots, M \\right)\n",
    "\\end{align}\n",
    "$$\n",
    "\n",
    "where $s$ is the `label` of an input $\\vec{x}$. Finally, the learning rule including the `learning_rate` $\\varepsilon$ for the weight update is\n",
    "\n",
    "$$\n",
    "\\begin{align}\n",
    "    \\Delta \\vec{\\tilde{w}}^{\\text{output}} &= \\varepsilon \\cdot \\delta^{\\text{output}} \\cdot \\vec{\\tilde{v}} \\\\\n",
    "    \\Delta \\vec{\\tilde{w}}^{\\text{hidden}}_{j} &= \\varepsilon \\cdot \\delta^{\\text{hidden}}_{j} \\cdot \\vec{\\tilde{x}} & \\left( j=1, \\dots, M \\right).\n",
    "\\end{align}\n",
    "$$\n",
    "\n",
    "Implement the backpropagation algorithm of the MLP.\n",
    "\n",
    "__Preparation__:\n",
    "- Formulate the backpropagation algorithm in pseudocode. You should particularly pay attention to the order in which computations are performed. For every variable, specify its dimension (see also the programming hints below).\n",
    "\n",
    "__Programming Hints__:\n",
    "- Note: The source code template expects the thresholds of the hidden layer neurons and the output neuron to be in the _first_ component.\n",
    "- In each adaptation of the weight vectors a fix `learning_rate` $\\varepsilon \\in \\mathbb{R}^{+}$ has to be employed.\n",
    "- As noted above, we need to use $\\beta=2$. This means that the MLP does not output a discrete classification ($-1$ or $1$) but a real value $y \\in \\left[ -1;1 \\right]$.\n",
    "- You should care about the treatment of the threshold $\\theta$ in particular. Note that $\\theta$ is necessary for forward propagation but not for backpropagation, i.e., for computing the $\\delta$ values.\n",
    "- You can implement both the backpropagation rule and the learning rule without any for-loops (`help(np.outer)`)."
   ]
  },
  {
   "cell_type": "code",
   "execution_count": null,
   "metadata": {},
   "outputs": [],
   "source": [
    "import numpy as np\n",
    "from matplotlib import pyplot as plt\n",
    "from utils import utils_4 as utils\n",
    "%matplotlib inline"
   ]
  },
  {
   "cell_type": "code",
   "execution_count": null,
   "metadata": {},
   "outputs": [],
   "source": [
    "def learn_mlp(samples, labels, hidden_neurons, learning_rate, epochs):\n",
    "\n",
    "    # n_samples: number of training samples / n_features: number of features\n",
    "    n_samples, n_features = samples.shape\n",
    "\n",
    "    # initialize the weights for the hidden layer (threshold trick included)\n",
    "    hidden_weights = np.random.randn(n_features + 1, hidden_neurons)\n",
    "\n",
    "    # initialize the weights for the output layer (threshold trick included)\n",
    "    output_weights = np.random.randn(hidden_neurons + 1)\n",
    "\n",
    "    for epoch in range(epochs):\n",
    "        \n",
    "        # generate randomly permuted index array\n",
    "        indexes = np.random.permutation(n_samples)\n",
    "        \n",
    "        # iterate through all indexes in the index array\n",
    "        for index in indexes:\n",
    "            \n",
    "            # select training sample and corresponding class label according to generated random permutation\n",
    "            sample = samples[index]\n",
    "            label = labels[index]\n",
    "\n",
    "            # forward propagation (note: hidden_outputs are already threshold extended)\n",
    "            output, hidden_outputs = utils.classify_mlp(sample, hidden_weights, output_weights, beta=2)\n",
    "\n",
    "            # was the data point classified wrongly?\n",
    "            if (label * output) < 0:\n",
    "\n",
    "                # extend sample with '-1' dimension as first component (threshold trick)\n",
    "                sample = utils.extend(sample)\n",
    "                \n",
    "                # TODO: implement the backpropagation rule\n",
    "                delta_output =\n",
    "                delta_hidden =\n",
    "\n",
    "                # TODO: implement the learning rule for the weight updates\n",
    "                output_weights = output_weights +\n",
    "                hidden_weights = hidden_weights +\n",
    "\n",
    "        yield (hidden_weights, output_weights)"
   ]
  },
  {
   "cell_type": "markdown",
   "metadata": {},
   "source": [
    "## Exercise 4.2: Training with an MLP\n",
    "The following two training data sets are given:"
   ]
  },
  {
   "cell_type": "code",
   "execution_count": 12,
   "metadata": {},
   "outputs": [
    {
     "data": {
      "image/png": "[encoded data removed]",
      "text/plain": [
       "<Figure size 432x288 with 2 Axes>"
      ]
     },
     "metadata": {
      "needs_background": "light"
     },
     "output_type": "display_data"
    }
   ],
   "source": [
    "samples, labels = utils.load_data('data/data_4_1.npz')\n",
    "plt.subplot(1, 2, 1)\n",
    "utils.plot_data(samples, labels)\n",
    "samples, labels = utils.load_data('data/data_4_2.npz')\n",
    "plt.subplot(1, 2, 2)\n",
    "utils.plot_data(samples, labels)"
   ]
  },
  {
   "cell_type": "markdown",
   "metadata": {},
   "source": [
    "We want to use an MLP to correctly classify these data sets. Obviously, this is not possible using a single artificial neuron since the data are not linearly separable.\n",
    "\n",
    "Try to let your MLP learn both structures as well as possible. How many hidden neurons and which learning rate are required in order to successfully classify each structure?"
   ]
  },
  {
   "cell_type": "code",
   "execution_count": null,
   "metadata": {},
   "outputs": [],
   "source": [
    "hidden_neurons = 3\n",
    "learning_rate = 0.01\n",
    "epochs = 200\n",
    "step_size = 2  # skip every 'step_size' step during animation\n",
    "\n",
    "samples, labels = utils.load_data('data/data_4_1.npz')\n",
    "weights = list(learn_mlp(samples, labels, hidden_neurons, learning_rate, epochs))\n",
    "animation = utils.Animation(samples, labels, hidden_neurons)\n",
    "animation.play(weights, step_size)"
   ]
  }
 ],
 "metadata": {
  "kernelspec": {
   "display_name": "Python 3",
   "language": "python",
   "name": "python3"
  },
  "language_info": {
   "codemirror_mode": {
    "name": "ipython",
    "version": 3
   },
   "file_extension": ".py",
   "mimetype": "text/x-python",
   "name": "python",
   "nbconvert_exporter": "python",
   "pygments_lexer": "ipython3",
   "version": "3.7.3"
  }
 },
 "nbformat": 4,
 "nbformat_minor": 2
}
