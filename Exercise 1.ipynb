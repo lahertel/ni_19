{
 "cells": [
  {
   "cell_type": "markdown",
   "metadata": {},
   "source": [
    "# Exercise 1: Visualization of Linear Classifiers"
   ]
  },
  {
   "cell_type": "markdown",
   "metadata": {},
   "source": [
    "## Exercise 1.1: Data visualization\n",
    "Please download the data file `data_1_1.npz` from the moodle-page and load it into the Python workspace (see `help(np.load)`). The rows in matrix `samples` represent $50$ vectors $\\vec{x}_{i} \\in \\mathbb{R}^{2}$. Their corresponding class labels $s_i \\in \\left\\{ -1, 1 \\right\\}$ are found in `labels` with:\n",
    "\n",
    "$$\n",
    "s_i = \\left\\{ \n",
    "        \\begin{array}{rl}\n",
    "            1 & \\mbox{, if } \\vec{x}_{i} \\; \\text{belongs to class 'blue circle'}\\\\ \n",
    "            -1 & \\mbox{, if } \\vec{x}_{i} \\; \\text{belongs to class 'red cross'} \n",
    "        \\end{array}\n",
    "        \\right. \n",
    "$$\n",
    "\n",
    "* Visualize the `samples` according to the `labels` (see `help(plt.plot)`) as blue circles and red crosses.\n",
    "* To enforce equal axis scaling, use e.g. `plt.axis('scaled')`"
   ]
  },
  {
   "cell_type": "code",
   "execution_count": null,
   "metadata": {},
   "outputs": [],
   "source": [
    "import numpy as np\n",
    "from matplotlib import pyplot as plt\n",
    "%matplotlib inline\n",
    "\n",
    "# TODO: function to load the data from .npz files\n",
    "def load_data(filepath):\n",
    "    pass\n",
    "\n",
    "# TODO: implement the function to plot the data\n",
    "def plot_data(samples, labels):\n",
    "    pass\n",
    "    \n",
    "samples, labels = load_data('data/data_1_1.npz')\n",
    "plot_data(samples, labels)"
   ]
  },
  {
   "cell_type": "markdown",
   "metadata": {},
   "source": [
    "## Exercise 1.2 (A linear model of a neuron)\n",
    "We are now looking at a linear model of a neuron without temporal dynamics. In this model, the neuron computes the weighted sum of the `sample` $\\vec{x}$ with `weights` $\\vec{w}$ and compares this sum to a `threshold` $\\theta$. The output value $y\\left( \\vec{x} \\right)$ (the `classification` of the neuron) is calculated as follows:\n",
    "\n",
    "$$\n",
    "\\begin{equation}\n",
    "    y \\left( \\vec{x} \\right) = \\sigma \\left( \\vec{x} \\vec{w}- \\theta \\right)\n",
    "\\end{equation}\n",
    "$$ \n",
    "\n",
    "where\n",
    "\n",
    "$$\n",
    "\\begin{equation}\n",
    "    \\sigma(x) = \n",
    "        \\left\\{ \n",
    "            \\begin{array}{rl}\n",
    "                 1, & \\text{if } x\\geq 0 \\\\\n",
    "                -1, & \\text{if } x<0\n",
    "            \\end{array} \n",
    "        \\right. \n",
    "\\end{equation}\n",
    "$$\n",
    "\n",
    "* Implement a Python function `neuron_classify(samples, weights, threshold)` that uses given `weights` $\\vec{w}$ and `threshold` $\\theta$ to compute the `classification` $y\\left( \\vec{x}_i \\right)$ for each `sample` $\\vec{x}_i$ (see `help(np.matmul)`). The $N$-dimensional output vector should contain the `classifications` for all `samples` $\\vec{x}_i, ~i=1,...,N$.\n",
    "* Try to avoid using `for` loops.\n",
    "* Try different values for $\\vec{w}$ and $\\theta$ and visualize the results.\n",
    "* What is the geometrical influence of $\\vec{w}$ and $\\theta$ on the classification? What is the relation between the direction of $\\vec{w}$ and the class assignments? What is happening, when you invert the direction of $\\vec{w}$?\n",
    "* How do you need to choose $\\vec{w}$ and $\\theta$ to get `classifications` for the `samples` that are equal to the real class `labels` (for both `data_1_1.npz` and `data_1_2.npz`)?"
   ]
  },
  {
   "cell_type": "code",
   "execution_count": null,
   "metadata": {},
   "outputs": [],
   "source": [
    "# TODO: function to classify the samples\n",
    "def neuron_classify(samples, weights, threshold):\n",
    "    pass\n",
    "\n",
    "weights = np.array([])  # TODO: define the weight vector\n",
    "threshold = np.array()  # TODO: define the threshold\n",
    "samples, labels = load_data('data/data_1_1.npz')\n",
    "classifications = neuron_classify(samples, weights, threshold)\n",
    "plot_data(samples, classifications)"
   ]
  },
  {
   "cell_type": "markdown",
   "metadata": {},
   "source": [
    "## Exercise 1.3 (Visualization of a neuron's classification boundary)\n",
    "For $d$-dimensional inputs, the `weights` $\\vec{w}$ and `threshold` $\\theta$ of the neuron model in exercise 1.1 characterize a linear ($d$-1)-dimensional hyperplane in $\\mathbb{R}^{d}$ as a classification line. \n",
    "For $\\mathbb{R}^{2}$, implement a Python function `plot_classline(weights, threshold)` that plots the exact classification line in an existing Matplotlib figure.\n",
    "\n",
    "Combine `plot_classline(weights, threshold)` and the previously implemented function `plot_data(samples, labels)` for the data points from `data_1_1.npz` to check whether your implementation is correct.\n",
    "\n",
    "__Hints:__\n",
    "* First of all: How is the classification line defined? Think of what formula the points located on the line have to fulfill.\n",
    "* The window size (i.e. `x_min`, `x_max`, `y_min`, `y_max`) of the figure should not be changed when you plot the classification line (see `help(plt.gca)`, `help(plt.Axes.get_xbound)` and `help(plt.Axes.get_ybound)`).\n",
    "* A line is defined with two distinct points. The intersection points of the line with the bounding box of the figure could be a good choice.\n",
    "* Try to avoid a `ZeroDivisionError`."
   ]
  },
  {
   "cell_type": "code",
   "execution_count": null,
   "metadata": {},
   "outputs": [],
   "source": [
    "# TODO: implement the function to plot the classline\n",
    "def plot_classline(weights, threshold):\n",
    "    pass\n",
    "\n",
    "plot_data(samples, labels)\n",
    "plot_classline(weights, threshold)"
   ]
  }
 ],
 "metadata": {
  "kernelspec": {
   "display_name": "Python 3",
   "language": "python",
   "name": "python3"
  },
  "language_info": {
   "codemirror_mode": {
    "name": "ipython",
    "version": 3
   },
   "file_extension": ".py",
   "mimetype": "text/x-python",
   "name": "python",
   "nbconvert_exporter": "python",
   "pygments_lexer": "ipython3",
   "version": "3.7.3"
  }
 },
 "nbformat": 4,
 "nbformat_minor": 2
}
